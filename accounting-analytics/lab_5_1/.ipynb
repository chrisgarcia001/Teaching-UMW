{
 "cells": [
  {
   "cell_type": "markdown",
   "metadata": {},
   "source": [
    "# Accounting Analytics  Lab 5-1: Retail Industry Descriptive Statistics"
   ]
  },
  {
   "cell_type": "markdown",
   "metadata": {},
   "source": [
    "**Keywords:** Descriptive Statistics, Graph, Retail IndustryLab \n",
    "\n",
    "**Insight:** Descriptive analysis uses facts and statistics to explain what happened. In this lab, we report descriptive statistics on the retail industry to get a better feel for what was reported as financial outcomes during 2018.\n",
    "\n",
    "**Required:**\n",
    "\n",
    "1.Compute descriptive statistics for the assets, sales, and income for the retail industry in 2018.\n",
    "\n",
    "2.Calculate return on assets and create a histogram showing theperformance across the dataset.\n",
    "\n",
    "**Ask the Question:** What was the distribution of assets and ROA in 2018 for the retail industry?\n",
    "\n",
    "**Master the Data:** The reported results of financial performance are included in the dataset for the retail industry."
   ]
  },
  {
   "cell_type": "code",
   "execution_count": 1,
   "metadata": {},
   "outputs": [],
   "source": [
    "# Import key library functions needed.\n",
    "import pandas as pd\n",
    "import matplotlib.pyplot as plt"
   ]
  },
  {
   "cell_type": "markdown",
   "metadata": {},
   "source": [
    "### Part 1"
   ]
  },
  {
   "cell_type": "markdown",
   "metadata": {},
   "source": [
    "Open the Excel File Lab 5-1 Data.xlsx"
   ]
  },
  {
   "cell_type": "code",
   "execution_count": null,
   "metadata": {},
   "outputs": [],
   "source": [
    "dataset = pd.read_excel('./data/cars.csv')"
   ]
  }
 ],
 "metadata": {
  "kernelspec": {
   "display_name": "Python 3",
   "language": "python",
   "name": "python3"
  },
  "language_info": {
   "codemirror_mode": {
    "name": "ipython",
    "version": 3
   },
   "file_extension": ".py",
   "mimetype": "text/x-python",
   "name": "python",
   "nbconvert_exporter": "python",
   "pygments_lexer": "ipython3",
   "version": "3.7.6"
  }
 },
 "nbformat": 4,
 "nbformat_minor": 4
}
